{
 "cells": [
  {
   "cell_type": "code",
   "execution_count": 1,
   "id": "reverse-people",
   "metadata": {},
   "outputs": [],
   "source": [
    "import numpy as np"
   ]
  },
  {
   "cell_type": "code",
   "execution_count": 5,
   "id": "dominican-monday",
   "metadata": {},
   "outputs": [],
   "source": [
    "V = np.random.randn(20, 2)"
   ]
  },
  {
   "cell_type": "code",
   "execution_count": 6,
   "id": "serial-stand",
   "metadata": {},
   "outputs": [
    {
     "data": {
      "text/plain": [
       "array([[ 0.70419763,  0.95632104],\n",
       "       [-1.60827879,  1.19743597],\n",
       "       [-1.48301582,  1.48473068],\n",
       "       [ 0.94564043, -0.25336536],\n",
       "       [ 1.35411501,  0.57655879],\n",
       "       [-0.51661998,  0.33678214],\n",
       "       [-0.77290705,  0.93649795],\n",
       "       [ 0.02478293, -0.65042375],\n",
       "       [ 1.1553246 ,  0.02710721],\n",
       "       [ 0.63395499,  0.69181196],\n",
       "       [-0.13330322,  0.3772984 ],\n",
       "       [-0.79109313,  0.99777706],\n",
       "       [-0.91749188,  1.34811638],\n",
       "       [ 0.4030224 , -0.14614595],\n",
       "       [ 1.67995567,  1.35105513],\n",
       "       [ 0.29528598, -0.47263212],\n",
       "       [-0.08545446,  0.56837518],\n",
       "       [ 0.25759633, -0.08832684],\n",
       "       [ 1.91925758,  0.18287218],\n",
       "       [ 0.63563859, -0.06881461]])"
      ]
     },
     "execution_count": 6,
     "metadata": {},
     "output_type": "execute_result"
    }
   ],
   "source": [
    "V"
   ]
  },
  {
   "cell_type": "code",
   "execution_count": 11,
   "id": "tropical-tourist",
   "metadata": {},
   "outputs": [
    {
     "data": {
      "text/plain": [
       "0.2746160277853714"
      ]
     },
     "execution_count": 11,
     "metadata": {},
     "output_type": "execute_result"
    }
   ],
   "source": [
    "np.random.rand()"
   ]
  },
  {
   "cell_type": "code",
   "execution_count": 13,
   "id": "constitutional-thesis",
   "metadata": {},
   "outputs": [],
   "source": [
    "colorList=[]\n",
    "colorList .append( list(np.random.choice(range(256), size=3)) )"
   ]
  },
  {
   "cell_type": "code",
   "execution_count": 14,
   "id": "together-johnston",
   "metadata": {},
   "outputs": [
    {
     "data": {
      "text/plain": [
       "[[106, 175, 198]]"
      ]
     },
     "execution_count": 14,
     "metadata": {},
     "output_type": "execute_result"
    }
   ],
   "source": [
    "colorList"
   ]
  },
  {
   "cell_type": "code",
   "execution_count": 15,
   "id": "continent-spare",
   "metadata": {},
   "outputs": [
    {
     "data": {
      "text/plain": [
       "array([0.7730037 , 0.80048755, 0.71839203])"
      ]
     },
     "execution_count": 15,
     "metadata": {},
     "output_type": "execute_result"
    }
   ],
   "source": [
    "np.random.rand(3,)"
   ]
  },
  {
   "cell_type": "code",
   "execution_count": 20,
   "id": "stretch-madness",
   "metadata": {},
   "outputs": [
    {
     "data": {
      "text/plain": [
       "array([0])"
      ]
     },
     "execution_count": 20,
     "metadata": {},
     "output_type": "execute_result"
    }
   ],
   "source": [
    "np.random.choice([0,1],1)"
   ]
  },
  {
   "cell_type": "code",
   "execution_count": null,
   "id": "normal-lease",
   "metadata": {},
   "outputs": [],
   "source": []
  }
 ],
 "metadata": {
  "kernelspec": {
   "display_name": "Python 3",
   "language": "python",
   "name": "python3"
  },
  "language_info": {
   "codemirror_mode": {
    "name": "ipython",
    "version": 3
   },
   "file_extension": ".py",
   "mimetype": "text/x-python",
   "name": "python",
   "nbconvert_exporter": "python",
   "pygments_lexer": "ipython3",
   "version": "3.8.8"
  }
 },
 "nbformat": 4,
 "nbformat_minor": 5
}
